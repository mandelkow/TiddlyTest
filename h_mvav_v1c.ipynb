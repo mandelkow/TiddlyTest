{
 "cells": [
  {
   "cell_type": "code",
   "execution_count": 1,
   "metadata": {},
   "outputs": [],
   "source": [
    "import glob\n",
    "import numpy as np\n",
    "import nibabel as niba"
   ]
  },
  {
   "cell_type": "code",
   "execution_count": 68,
   "metadata": {},
   "outputs": [
    {
     "name": "stdout",
     "output_type": "stream",
     "text": [
      "/gpfs/gsfs8/users/mandelkowhc/Sleep/Proc06_3su/Su078/Se01/Ex08\n"
     ]
    }
   ],
   "source": [
    "cd /data/mandelkowhc/Sleep/Proc06_3su/Su078/Se01/Ex08/"
   ]
  },
  {
   "cell_type": "code",
   "execution_count": 69,
   "metadata": {},
   "outputs": [],
   "source": [
    "NiiFile = glob.glob('2*.nii')[0]\n",
    "Ni = niba.load(NiiFile)\n"
   ]
  },
  {
   "cell_type": "code",
   "execution_count": 70,
   "metadata": {},
   "outputs": [
    {
     "data": {
      "text/plain": [
       "(96, 72, 50, 1288)"
      ]
     },
     "execution_count": 70,
     "metadata": {},
     "output_type": "execute_result"
    }
   ],
   "source": [
    "Ni.shape"
   ]
  },
  {
   "cell_type": "code",
   "execution_count": 78,
   "metadata": {},
   "outputs": [
    {
     "name": "stdout",
     "output_type": "stream",
     "text": [
      "CPU times: user 13 µs, sys: 7 µs, total: 20 µs\n",
      "Wall time: 23.4 µs\n"
     ]
    }
   ],
   "source": [
    "%%time\n",
    "Data = Ni.get_fdata()\n"
   ]
  },
  {
   "cell_type": "code",
   "execution_count": 79,
   "metadata": {},
   "outputs": [],
   "source": [
    "N = 5\n",
    "# Data = np.array_split(Data,Data.shape[-1]//10,axis=-1)\n",
    "Data = Data[...,:Data.shape[-1]//N*N].reshape(*Data.shape[:3],-1,N)\n",
    "# Data[...,:-Data.shape[-1]%10].shape"
   ]
  },
  {
   "cell_type": "code",
   "execution_count": 80,
   "metadata": {},
   "outputs": [
    {
     "data": {
      "text/plain": [
       "(96, 72, 50, 257, 5)"
      ]
     },
     "execution_count": 80,
     "metadata": {},
     "output_type": "execute_result"
    }
   ],
   "source": [
    "Data.shape"
   ]
  },
  {
   "cell_type": "code",
   "execution_count": 81,
   "metadata": {},
   "outputs": [],
   "source": [
    "Data = np.var(Data,-1).sum((0,1,2))"
   ]
  },
  {
   "cell_type": "code",
   "execution_count": 82,
   "metadata": {},
   "outputs": [
    {
     "name": "stdout",
     "output_type": "stream",
     "text": [
      "209\n"
     ]
    },
    {
     "data": {
      "image/png": "[encoded data removed]",
      "text/plain": [
       "<Figure size 432x288 with 1 Axes>"
      ]
     },
     "metadata": {
      "needs_background": "light"
     },
     "output_type": "display_data"
    }
   ],
   "source": [
    "import matplotlib.pyplot as plt\n",
    "%matplotlib inline\n",
    "plt.plot(Data)\n",
    "plt.axvline(np.argmin(Data),c='r',ls='--')\n",
    "print(np.argmin(Data))"
   ]
  },
  {
   "cell_type": "code",
   "execution_count": null,
   "metadata": {},
   "outputs": [],
   "source": [
    "import sys\n",
    "import numpy as np\n",
    "import nibabel as niba\n",
    "\n",
    "def hNiiMinVar(NiiFile,N):\n",
    "    Ni = niba.load(NiiFile)\n",
    "    Data = Ni.get_fdata()\n",
    "    Data = Data[...,:Data.shape[-1]//N*N].reshape(*Data.shape[:3],-1,N)\n",
    "    Data = np.var(Data,-1).sum((0,1,2))\n",
    "    Data = np.argmin(Data)\n",
    "    print(Data)\n",
    "    \n",
    "if __name__ == '__main__':\n",
    "    hNiiMinVar(sys.argv[1], int(sys.argv[2]))\n"
   ]
  }
 ],
 "metadata": {
  "kernelspec": {
   "display_name": "python/3.6",
   "language": "python",
   "name": "py3.6"
  },
  "language_info": {
   "codemirror_mode": {
    "name": "ipython",
    "version": 3
   },
   "file_extension": ".py",
   "mimetype": "text/x-python",
   "name": "python",
   "nbconvert_exporter": "python",
   "pygments_lexer": "ipython3",
   "version": "3.6.8"
  }
 },
 "nbformat": 4,
 "nbformat_minor": 4
}
